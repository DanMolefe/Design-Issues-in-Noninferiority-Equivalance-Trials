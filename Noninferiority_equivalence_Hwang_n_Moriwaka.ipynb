{
 "cells": [
  {
   "cell_type": "markdown",
   "metadata": {},
   "source": [
    "__________________________\n",
    "# Design Issues in Noninferiority/Equivalance Trials\n",
    "__________________________"
   ]
  },
  {
   "cell_type": "markdown",
   "metadata": {},
   "source": [
    "**Goal**: Generate sample size or power estimates for non-inferiority equivalance trials when data is either normally or binomially distributed datasets."
   ]
  },
  {
   "cell_type": "markdown",
   "metadata": {},
   "source": [
    "**Background.** This repository provides sample size or power estimates for various trial types: non-inferiority, equivalence, superiority, and superiority to placebo, assuming normally distributed data. Additionally, it offers sample size or power estimates for non-inferiority and equivalence trials with binomially distributed data. For a comprehensive guide on when and how to apply the sample size and power calculations presented here, please refer to Hwang and Moriwaka (1999) [https://doi.org/10.1177/009286159903300424]."
   ]
  },
  {
   "cell_type": "markdown",
   "metadata": {},
   "source": [
    "**Usage of the sample size and Power Estimation Function**\n",
    "\n",
    "To use the function below, researchers must specify the trial type, distribution, delta, sigma, alpha, and either sample size (n) or power, but not both.\n",
    "\n",
    "Definition of Variables:\n",
    "\n",
    "- **Trial -** Noninferiority, Equivalence, Superiority and superiority-to-placebo \n",
    "- **Distribution -** Normal or Binomial\n",
    "- **Delta -** Difference between the treatment and control groups ($\\delta$). Also called Noninferiority or Equivalence margins \n",
    "- **Sigma -** Standard deviation ($\\sigma$)\n",
    "- **Alpha -** Type I error ($\\alpha$) - probability of rejecting null hypothesis when null is true\n",
    "- **n -** Sample size \n",
    "- **power -** Probability of rejecting null hypothesis when null is false (1-$\\beta$) \n",
    " "
   ]
  },
  {
   "cell_type": "markdown",
   "metadata": {},
   "source": [
    "__________________________\n",
    "**Formulas**\n",
    "__________________________"
   ]
  },
  {
   "cell_type": "markdown",
   "metadata": {},
   "source": [
    "**1. Non-inferiority Trial - Normally Distributed Data**\n",
    "\n",
    "<span style=\"color:cyan\">\n",
    "Sample size\n",
    "</span>\n",
    "\n",
    "- n = 2 $[(z_{1-\\alpha} + z_{1-\\beta})({\\sigma}/{\\delta})]^{2}$\n",
    " \n",
    "<span style=\"color:cyan\">\n",
    "Power\n",
    "</span>\n",
    "\n",
    "power = 2 $\\Phi[\\delta (2\\sigma^{2}/n) ^{-1/2} - z_{1-\\alpha}]$\n",
    "\n",
    "\n",
    "**2. Equivalence Trial - Normally Distributed Data**\n",
    "\n",
    "<span style=\"color:cyan\">\n",
    "Sample size\n",
    "</span>\n",
    "\n",
    "\n",
    "- n = 2 $[(z_{1-\\alpha} + z_{1-\\beta/2})({\\sigma}/{\\delta})]^{2}$\n",
    " \n",
    "<span style=\"color:cyan\">\n",
    "Power\n",
    "</span>\n",
    "\n",
    "power = 2 $\\Phi[\\delta (2\\sigma^{2}/n)^{-1/2} - z_{1-\\alpha}] - 1$\n",
    "\n",
    "**3. Superiority Trial - Normally Distributed Data**\n",
    "\n",
    "<span style=\"color:cyan\">\n",
    "Sample size\n",
    "</span>\n",
    "\n",
    "\n",
    "- n = 2 $[(z_{1-\\alpha} + z_{1-\\beta})({\\sigma}/{\\epsilon})]^{2}$\n",
    " \n",
    "<span style=\"color:cyan\">\n",
    "Power\n",
    "</span>\n",
    "\n",
    "power = $\\Phi[\\epsilon (2\\sigma^{2}/n) ^{-1/2} - z_{1-\\alpha}]$\n",
    "\n",
    "**4. Superiority to Placebo Trial - Normally Distributed Data**\n",
    "\n",
    "<span style=\"color:cyan\">\n",
    "Sample size\n",
    "</span>\n",
    "\n",
    "\n",
    "- n = 2 $[(z_{1-\\alpha} + z_{1-\\beta})({\\sigma}/{\\Delta})]^{2}$\n",
    " \n",
    "<span style=\"color:cyan\">\n",
    "Power\n",
    "</span>\n",
    "\n",
    "power = $\\Phi[\\Delta (2\\sigma^{2}/n) ^{-1/2} - z_{1-\\alpha}]$\n",
    "\n",
    "**5. Noninferiority Trial - Binomially Distributed Data**\n",
    "\n",
    "<span style=\"color:cyan\">\n",
    "Sample size\n",
    "</span>\n",
    "\n",
    "\n",
    "- n = 2 $(\\pi(1-\\pi)\\delta^{-2})(z_{1-\\alpha} + z_{1-\\beta})$\n",
    " \n",
    "<span style=\"color:cyan\">\n",
    "Power\n",
    "</span>\n",
    "\n",
    "power = $\\Phi[\\delta((\\pi(1-\\pi)(2/n)))^{-1/2} - z_{1-\\alpha}]$\n",
    "\n",
    "**6. Equivalence Trial - Binomially Distributed Data**\n",
    "\n",
    "<span style=\"color:cyan\">\n",
    "Sample size\n",
    "</span>\n",
    "\n",
    "\n",
    "- n = 2 $\\{\\pi(1-\\pi)\\delta^{-2}\\}(z_{1-\\alpha} + z_{1-\\beta/2})^{2}$\n",
    " \n",
    "<span style=\"color:cyan\">\n",
    "Power\n",
    "</span>\n",
    "\n",
    "power = $\\Phi[\\delta\\{ \\pi(1-\\pi)(2/n)\\}^{-1/2} - z_{1-\\alpha}] - 1$\n",
    " \n",
    " "
   ]
  },
  {
   "cell_type": "markdown",
   "metadata": {},
   "source": [
    "__________________________\n",
    "# Sample size and Power Estimation Function\n",
    "__________________________"
   ]
  },
  {
   "cell_type": "code",
   "execution_count": 173,
   "metadata": {},
   "outputs": [],
   "source": [
    "# libraries\n",
    "import math\n",
    "from scipy.stats import norm\n",
    "import pandas as pd\n",
    "\n",
    "def func_trial_description(trial_var):\n",
    "    ''''\n",
    "    Trial description\n",
    "    '''\n",
    "    if trial_var == \"noninfer\":\n",
    "        trial_description = \"Non-Inferiority\"\n",
    "    elif trial_var == \"equiv\":\n",
    "        trial_description = \"Equivalence\"\n",
    "    elif trial_var == \"super\":\n",
    "        trial_description = \"Superiority\"\n",
    "    elif trial_var == \"supertoplacebo\":\n",
    "        trial_description = \"Superiority to Placebo\" \n",
    "\n",
    "    return(trial_description)\n",
    "\n",
    "def func_distribution_description(distr_var):\n",
    "    ''''\n",
    "    Distribution description\n",
    "    '''\n",
    "    if distr_var == \"normal\":\n",
    "        distr_description = \"normally distributed\"\n",
    "    elif distr_var == \"binomial\":\n",
    "        distr_description = \"binomially distributed\"\n",
    "    return(distr_description)\n",
    " \n",
    "def func_res_dsn(trial, distr,  delta, sigma, alpha, pi_val, n,  power):\n",
    "     '''\n",
    "     Ouput dataset\n",
    "     '''\n",
    "     dsn = pd.DataFrame({'trial': trial, 'delta': delta, 'sigma': sigma, 'alpha':alpha,'pi_val': pi_val,  'power': power, \"n\":n}, index=[1])\n",
    "     return(dsn)\n",
    "\n",
    "\n",
    "def func_calc(trial, distr,  delta, sigma, alpha, pi_val, n,  power):\n",
    "    ''''\n",
    "    Given sample size (n) - estimate power\n",
    "    Given power - estimate sample size (n)\n",
    "    '''\n",
    "    if power>0:\n",
    "        beta = 1 - power\n",
    "\n",
    "    if (trial == \"noninfer\" and distr==\"normal\"):\n",
    "\n",
    "        factor1 = norm.ppf(1 - alpha) \n",
    "\n",
    "        if math.isnan(n):\n",
    "\n",
    "            factor2 = norm.ppf(1 - beta) \n",
    "            n = 2*((factor1 + factor2)*(sigma/delta) )**2\n",
    "            print(\"Estimated sample size (n): \" +func_trial_description(trial_var=trial) + \" trial for \" + func_distribution_description(distr_var=distr) + \" data \")\n",
    "            res = func_res_dsn(trial=trial, distr=distr,  delta=delta, sigma=sigma, alpha=alpha, pi_val=pi_val,  n=n,  power=power)\n",
    "            return(res)\n",
    "      \n",
    "        elif math.isnan(power):\n",
    "\n",
    "            factor2 =  delta*(   ((2*sigma**2/n))**(-1/2)  )\n",
    "            diff = factor2 - factor1\n",
    "            power = norm.cdf(diff, loc=0, scale=1) * 100\n",
    "            print(\"Estimated power: \" +func_trial_description(trial_var=trial) + \" trial for \" + func_distribution_description(distr_var=distr) + \" data \")\n",
    "            return(func_res_dsn(trial=trial, distr=distr,  delta=delta, sigma=sigma, alpha=alpha, pi_val=pi_val,  n=n,  power=power))\n",
    "        \n",
    "    if (trial == \"equiv\" and distr==\"normal\"):\n",
    "\n",
    "        factor1 = norm.ppf(1 - alpha) \n",
    "\n",
    "        if math.isnan(n):\n",
    "\n",
    "            factor2 = norm.ppf(1 - beta/2) \n",
    "            n = 2*((factor1 + factor2)*(sigma/delta) )**2\n",
    "            print(\"Estimated sample size (n): \" +func_trial_description(trial_var=trial) + \" trial for \" + func_distribution_description(distr_var=distr) + \" data \")\n",
    "            return(func_res_dsn(trial=trial, distr=distr,  delta=delta, sigma=sigma, alpha=alpha, pi_val=pi_val,  n=n,  power=power))\n",
    "      \n",
    "        elif math.isnan(power):\n",
    "\n",
    "            factor2 = delta*(   ((2*sigma**2/n))**(-1/2)  )\n",
    "            diff = factor2 - factor1\n",
    "            power =( 2 * (norm.cdf(diff, loc=0, scale=1) ) - 1 ) * 100\n",
    "            print(\"Estimated power: \" +func_trial_description(trial_var=trial) + \" trial for \" + func_distribution_description(distr_var=distr) + \" data \")\n",
    "            return(func_res_dsn(trial=trial, distr=distr,  delta=delta, sigma=sigma, alpha=alpha, pi_val=pi_val,  n=n,  power=power))       \n",
    "\n",
    "    if (trial == \"super\" and distr==\"normal\"):\n",
    "\n",
    "        factor1 = norm.ppf(1 - alpha) \n",
    "    \n",
    "        if math.isnan(n):\n",
    "\n",
    "            factor2 = norm.ppf(1 - beta) \n",
    "            n = 2*((factor1 + factor2)*(sigma/delta) )**2\n",
    "            print(\"Estimated sample size (n): \" +func_trial_description(trial_var=trial) + \" trial for \" + func_distribution_description(distr_var=distr) + \" data \")\n",
    "            return(func_res_dsn(trial=trial, distr=distr,  delta=delta, sigma=sigma, alpha=alpha, pi_val=pi_val,  n=n,  power=power))\n",
    "      \n",
    "        elif math.isnan(power):\n",
    "\n",
    "            factor2 =delta * ((2*sigma**2)/n)**(-1/2)\n",
    "            diff = factor2 - factor1\n",
    "            power = norm.cdf(diff, loc=0, scale=1) * 100\n",
    "            print(\"Estimated power: \" +func_trial_description(trial_var=trial) + \" trial for \" + func_distribution_description(distr_var=distr) + \" data \")\n",
    "            return(func_res_dsn(trial=trial, distr=distr,  delta=delta, sigma=sigma, alpha=alpha, pi_val=pi_val,  n=n,  power=power))\n",
    "\n",
    "    if (trial == \"supertoplacebo\" and distr==\"normal\"):\n",
    "\n",
    "        factor1 = norm.ppf(1 - alpha) \n",
    "        print(\"here\")\n",
    "        if math.isnan(n):\n",
    "\n",
    "            factor2 = norm.ppf(1 - beta) \n",
    "            n = 2*((factor1 + factor2)*(sigma/delta) )**2\n",
    "            print(\"Estimated sample size (n): \" +func_trial_description(trial_var=trial) + \" trial for \" + func_distribution_description(distr_var=distr) + \" data \")\n",
    "            return(func_res_dsn(trial=trial, distr=distr,  delta=delta, sigma=sigma, alpha=alpha, pi_val=pi_val,  n=n,  power=power))\n",
    "    \n",
    "        elif math.isnan(power):\n",
    "\n",
    "\n",
    "            factor2 =delta * ((2*sigma**2)/n)**(-1/2)\n",
    "            diff = factor2 - factor1\n",
    "            power = norm.cdf(diff, loc=0, scale=1) * 100\n",
    "            print(\"Estimated power: \" +func_trial_description(trial_var=trial) + \" trial for \" + func_distribution_description(distr_var=distr) + \" data \")\n",
    "            return(func_res_dsn(trial=trial, distr=distr,  delta=delta, sigma=sigma, alpha=alpha, pi_val=pi_val,  n=n,  power=power))             \n",
    "\n",
    "    if (trial == \"noninfer\" and distr==\"binomial\"):\n",
    "\n",
    "        factor1 = norm.ppf(1 - alpha) \n",
    "\n",
    "        if math.isnan(n):\n",
    "\n",
    "            factor2 = norm.ppf(1 - beta) \n",
    "            n = 2 * (pi_val*(1 - pi_val) / delta**(2) ) * (factor1 + factor2)**2\n",
    "            print(\"Estimated sample size (n): \" +func_trial_description(trial_var=trial) + \" trial for \" + func_distribution_description(distr_var=distr) + \" data \")\n",
    "            return(func_res_dsn(trial=trial, distr=distr,  delta=delta, sigma=sigma, alpha=alpha, pi_val=pi_val,  n=n,  power=power))\n",
    "    \n",
    "        elif math.isnan(power):\n",
    "            diff = delta * (pi_val*(1-pi_val)*(2/n))**(-1/2) - factor1\n",
    "            power = norm.cdf(diff, loc=0, scale=1) * 100\n",
    "            print(\"Estimated power: \" +func_trial_description(trial_var=trial) + \" trial for \" + func_distribution_description(distr_var=distr) + \" data \")\n",
    "            return(func_res_dsn(trial=trial, distr=distr,  delta=delta, sigma=sigma, alpha=alpha, pi_val=pi_val,  n=n,  power=power))   \n",
    "        \n",
    "    if (trial == \"equiv\" and distr==\"binomial\"):\n",
    "    \n",
    "        factor1 = norm.ppf(1 - alpha) \n",
    " \n",
    "        if math.isnan(n):\n",
    "\n",
    "            factor2 = norm.ppf(1 - beta/2) \n",
    "            n = 2 * (pi_val*(1 - pi_val) / delta**(2) ) * (factor1 + factor2)**2\n",
    "            print(\"Estimated sample size (n): \" +func_trial_description(trial_var=trial) + \" trial for \" + func_distribution_description(distr_var=distr) + \" data \")\n",
    "            return(func_res_dsn(trial=trial, distr=distr,  delta=delta, sigma=sigma, alpha=alpha, pi_val=pi_val,  n=n,  power=power))\n",
    "        \n",
    "        elif math.isnan(power):\n",
    "            power = 2 * norm.cdf(  (delta*(1-kappa*(2/n))) **(-1/2) - factor1 , loc=0, scale=1) - 1\n",
    "            print(\"Estimated power: \" +func_trial_description(trial_var=trial) + \" trial for \" + func_distribution_description(distr_var=distr) + \" data \")\n",
    "            return(func_res_dsn(trial=trial, distr=distr,  delta=delta, sigma=sigma, alpha=alpha, pi_val=pi_val,  n=n,  power=power))               \n"
   ]
  },
  {
   "cell_type": "markdown",
   "metadata": {},
   "source": [
    "__________________________\n",
    "# Examples\n",
    "__________________________"
   ]
  },
  {
   "cell_type": "markdown",
   "metadata": {},
   "source": [
    "**Example 1 (a):** Estimate **sample size** for a noninferiority trial when data is normally distributed for the following parameters: $\\delta$ = 1.4, sigma = 1.1, alpha ($\\alpha$)=0.05 and  power=0.8"
   ]
  },
  {
   "cell_type": "code",
   "execution_count": 147,
   "metadata": {},
   "outputs": [
    {
     "name": "stdout",
     "output_type": "stream",
     "text": [
      "Estimated sample size (n): Non-Inferiority trial for normally distributed data \n"
     ]
    },
    {
     "data": {
      "text/html": [
       "<div>\n",
       "<style scoped>\n",
       "    .dataframe tbody tr th:only-of-type {\n",
       "        vertical-align: middle;\n",
       "    }\n",
       "\n",
       "    .dataframe tbody tr th {\n",
       "        vertical-align: top;\n",
       "    }\n",
       "\n",
       "    .dataframe thead th {\n",
       "        text-align: right;\n",
       "    }\n",
       "</style>\n",
       "<table border=\"1\" class=\"dataframe\">\n",
       "  <thead>\n",
       "    <tr style=\"text-align: right;\">\n",
       "      <th></th>\n",
       "      <th>trial</th>\n",
       "      <th>delta</th>\n",
       "      <th>sigma</th>\n",
       "      <th>alpha</th>\n",
       "      <th>pi_val</th>\n",
       "      <th>power</th>\n",
       "      <th>n</th>\n",
       "    </tr>\n",
       "  </thead>\n",
       "  <tbody>\n",
       "    <tr>\n",
       "      <th>1</th>\n",
       "      <td>noninfer</td>\n",
       "      <td>1.4</td>\n",
       "      <td>1.1</td>\n",
       "      <td>0.05</td>\n",
       "      <td>NaN</td>\n",
       "      <td>0.8</td>\n",
       "      <td>7.633566</td>\n",
       "    </tr>\n",
       "  </tbody>\n",
       "</table>\n",
       "</div>"
      ],
      "text/plain": [
       "      trial  delta  sigma  alpha  pi_val  power         n\n",
       "1  noninfer    1.4    1.1   0.05     NaN    0.8  7.633566"
      ]
     },
     "execution_count": 147,
     "metadata": {},
     "output_type": "execute_result"
    }
   ],
   "source": [
    "func_calc(trial = \"noninfer\", \n",
    "          distr = \"normal\", \n",
    "          delta = 1.4, \n",
    "          sigma = 1.1, \n",
    "          alpha = 0.05,\n",
    "          pi_val=math.nan,  \n",
    "          n = math.nan,  \n",
    "          power = 0.8)"
   ]
  },
  {
   "cell_type": "markdown",
   "metadata": {},
   "source": [
    "**Example 1 (b):** Estimate **power** for a noninferiority trial when data is normally distributed for the following parameters: $\\delta$ = 1.4, sigma = 1.1, alpha ($\\alpha$)=0.05 and n=8"
   ]
  },
  {
   "cell_type": "code",
   "execution_count": 148,
   "metadata": {},
   "outputs": [
    {
     "name": "stdout",
     "output_type": "stream",
     "text": [
      "Estimated power: Non-Inferiority trial for normally distributed data \n"
     ]
    },
    {
     "data": {
      "text/html": [
       "<div>\n",
       "<style scoped>\n",
       "    .dataframe tbody tr th:only-of-type {\n",
       "        vertical-align: middle;\n",
       "    }\n",
       "\n",
       "    .dataframe tbody tr th {\n",
       "        vertical-align: top;\n",
       "    }\n",
       "\n",
       "    .dataframe thead th {\n",
       "        text-align: right;\n",
       "    }\n",
       "</style>\n",
       "<table border=\"1\" class=\"dataframe\">\n",
       "  <thead>\n",
       "    <tr style=\"text-align: right;\">\n",
       "      <th></th>\n",
       "      <th>trial</th>\n",
       "      <th>delta</th>\n",
       "      <th>sigma</th>\n",
       "      <th>alpha</th>\n",
       "      <th>pi_val</th>\n",
       "      <th>power</th>\n",
       "      <th>n</th>\n",
       "    </tr>\n",
       "  </thead>\n",
       "  <tbody>\n",
       "    <tr>\n",
       "      <th>1</th>\n",
       "      <td>noninfer</td>\n",
       "      <td>1.4</td>\n",
       "      <td>1.1</td>\n",
       "      <td>0.05</td>\n",
       "      <td>NaN</td>\n",
       "      <td>81.609973</td>\n",
       "      <td>8</td>\n",
       "    </tr>\n",
       "  </tbody>\n",
       "</table>\n",
       "</div>"
      ],
      "text/plain": [
       "      trial  delta  sigma  alpha  pi_val      power  n\n",
       "1  noninfer    1.4    1.1   0.05     NaN  81.609973  8"
      ]
     },
     "execution_count": 148,
     "metadata": {},
     "output_type": "execute_result"
    }
   ],
   "source": [
    "func_calc(trial = \"noninfer\", \n",
    "          distr = \"normal\", \n",
    "          delta = 1.4, \n",
    "          sigma = 1.1, \n",
    "          alpha = 0.05, \n",
    "          pi_val=math.nan, \n",
    "          n = 8,  \n",
    "          power = math.nan)"
   ]
  },
  {
   "cell_type": "markdown",
   "metadata": {},
   "source": [
    "**Example 2 (a):** Estimate **sample size** for a Equivalence trial when data is normally distributed for the following parameters: $\\delta$ = 1.4, sigma = 1.1, alpha ($\\alpha$)=0.05 and  power=0.8"
   ]
  },
  {
   "cell_type": "code",
   "execution_count": 149,
   "metadata": {},
   "outputs": [
    {
     "name": "stdout",
     "output_type": "stream",
     "text": [
      "Estimated sample size (n): Equivalence trial for normally distributed data \n"
     ]
    },
    {
     "data": {
      "text/html": [
       "<div>\n",
       "<style scoped>\n",
       "    .dataframe tbody tr th:only-of-type {\n",
       "        vertical-align: middle;\n",
       "    }\n",
       "\n",
       "    .dataframe tbody tr th {\n",
       "        vertical-align: top;\n",
       "    }\n",
       "\n",
       "    .dataframe thead th {\n",
       "        text-align: right;\n",
       "    }\n",
       "</style>\n",
       "<table border=\"1\" class=\"dataframe\">\n",
       "  <thead>\n",
       "    <tr style=\"text-align: right;\">\n",
       "      <th></th>\n",
       "      <th>trial</th>\n",
       "      <th>delta</th>\n",
       "      <th>sigma</th>\n",
       "      <th>alpha</th>\n",
       "      <th>pi_val</th>\n",
       "      <th>power</th>\n",
       "      <th>n</th>\n",
       "    </tr>\n",
       "  </thead>\n",
       "  <tbody>\n",
       "    <tr>\n",
       "      <th>1</th>\n",
       "      <td>equiv</td>\n",
       "      <td>1.4</td>\n",
       "      <td>1.1</td>\n",
       "      <td>0.05</td>\n",
       "      <td>NaN</td>\n",
       "      <td>0.8</td>\n",
       "      <td>10.57373</td>\n",
       "    </tr>\n",
       "  </tbody>\n",
       "</table>\n",
       "</div>"
      ],
      "text/plain": [
       "   trial  delta  sigma  alpha  pi_val  power         n\n",
       "1  equiv    1.4    1.1   0.05     NaN    0.8  10.57373"
      ]
     },
     "execution_count": 149,
     "metadata": {},
     "output_type": "execute_result"
    }
   ],
   "source": [
    "func_calc(trial = \"equiv\", \n",
    "          distr = \"normal\", \n",
    "          delta = 1.4, \n",
    "          sigma = 1.1, \n",
    "          alpha = 0.05, \n",
    "          pi_val=math.nan, \n",
    "          n = math.nan,  \n",
    "          power = 0.8)"
   ]
  },
  {
   "cell_type": "markdown",
   "metadata": {},
   "source": [
    "**Example 2 (b):** Estimate **power** for a Equivalence trial when data is normally distributed for the following parameters: $\\delta$ = 1.4, sigma = 1.1, alpha ($\\alpha$)=0.05 and n=11"
   ]
  },
  {
   "cell_type": "code",
   "execution_count": 150,
   "metadata": {},
   "outputs": [
    {
     "name": "stdout",
     "output_type": "stream",
     "text": [
      "Estimated power: Equivalence trial for normally distributed data \n"
     ]
    },
    {
     "data": {
      "text/html": [
       "<div>\n",
       "<style scoped>\n",
       "    .dataframe tbody tr th:only-of-type {\n",
       "        vertical-align: middle;\n",
       "    }\n",
       "\n",
       "    .dataframe tbody tr th {\n",
       "        vertical-align: top;\n",
       "    }\n",
       "\n",
       "    .dataframe thead th {\n",
       "        text-align: right;\n",
       "    }\n",
       "</style>\n",
       "<table border=\"1\" class=\"dataframe\">\n",
       "  <thead>\n",
       "    <tr style=\"text-align: right;\">\n",
       "      <th></th>\n",
       "      <th>trial</th>\n",
       "      <th>delta</th>\n",
       "      <th>sigma</th>\n",
       "      <th>alpha</th>\n",
       "      <th>pi_val</th>\n",
       "      <th>power</th>\n",
       "      <th>n</th>\n",
       "    </tr>\n",
       "  </thead>\n",
       "  <tbody>\n",
       "    <tr>\n",
       "      <th>1</th>\n",
       "      <td>equiv</td>\n",
       "      <td>1.4</td>\n",
       "      <td>1.1</td>\n",
       "      <td>0.05</td>\n",
       "      <td>NaN</td>\n",
       "      <td>81.974048</td>\n",
       "      <td>11</td>\n",
       "    </tr>\n",
       "  </tbody>\n",
       "</table>\n",
       "</div>"
      ],
      "text/plain": [
       "   trial  delta  sigma  alpha  pi_val      power   n\n",
       "1  equiv    1.4    1.1   0.05     NaN  81.974048  11"
      ]
     },
     "execution_count": 150,
     "metadata": {},
     "output_type": "execute_result"
    }
   ],
   "source": [
    "func_calc(trial = \"equiv\", \n",
    "          distr = \"normal\", \n",
    "          delta = 1.4, \n",
    "          sigma = 1.1, \n",
    "          alpha = 0.05, \n",
    "          pi_val=math.nan, \n",
    "          n = 11,  \n",
    "          power = math.nan)"
   ]
  },
  {
   "cell_type": "markdown",
   "metadata": {},
   "source": [
    "**Example 3 (a):** Estimate **sample size** for a Superiority trial when data is normally distributed for the following parameters: $\\delta$ = 1.4, sigma = 1.1, alpha ($\\alpha$)=0.05 and  power=0.8"
   ]
  },
  {
   "cell_type": "code",
   "execution_count": 151,
   "metadata": {},
   "outputs": [
    {
     "name": "stdout",
     "output_type": "stream",
     "text": [
      "Estimated sample size (n): Superiority trial for normally distributed data \n"
     ]
    },
    {
     "data": {
      "text/html": [
       "<div>\n",
       "<style scoped>\n",
       "    .dataframe tbody tr th:only-of-type {\n",
       "        vertical-align: middle;\n",
       "    }\n",
       "\n",
       "    .dataframe tbody tr th {\n",
       "        vertical-align: top;\n",
       "    }\n",
       "\n",
       "    .dataframe thead th {\n",
       "        text-align: right;\n",
       "    }\n",
       "</style>\n",
       "<table border=\"1\" class=\"dataframe\">\n",
       "  <thead>\n",
       "    <tr style=\"text-align: right;\">\n",
       "      <th></th>\n",
       "      <th>trial</th>\n",
       "      <th>delta</th>\n",
       "      <th>sigma</th>\n",
       "      <th>alpha</th>\n",
       "      <th>pi_val</th>\n",
       "      <th>power</th>\n",
       "      <th>n</th>\n",
       "    </tr>\n",
       "  </thead>\n",
       "  <tbody>\n",
       "    <tr>\n",
       "      <th>1</th>\n",
       "      <td>super</td>\n",
       "      <td>1.4</td>\n",
       "      <td>1.1</td>\n",
       "      <td>0.05</td>\n",
       "      <td>NaN</td>\n",
       "      <td>0.8</td>\n",
       "      <td>7.633566</td>\n",
       "    </tr>\n",
       "  </tbody>\n",
       "</table>\n",
       "</div>"
      ],
      "text/plain": [
       "   trial  delta  sigma  alpha  pi_val  power         n\n",
       "1  super    1.4    1.1   0.05     NaN    0.8  7.633566"
      ]
     },
     "execution_count": 151,
     "metadata": {},
     "output_type": "execute_result"
    }
   ],
   "source": [
    "func_calc(trial = \"super\", \n",
    "          distr = \"normal\", \n",
    "          delta = 1.4, \n",
    "          sigma = 1.1, \n",
    "          alpha = 0.05, \n",
    "          pi_val=math.nan, \n",
    "          n = math.nan,  \n",
    "          power = 0.8)"
   ]
  },
  {
   "cell_type": "markdown",
   "metadata": {},
   "source": [
    "**Example 3 (b):** Estimate **power** for a Superiority trial when data is normally distributed for the following parameters: $\\delta$ = 1.4, sigma = 1.1, alpha ($\\alpha$)=0.05 and n=8"
   ]
  },
  {
   "cell_type": "code",
   "execution_count": 152,
   "metadata": {},
   "outputs": [
    {
     "name": "stdout",
     "output_type": "stream",
     "text": [
      "Estimated power: Superiority trial for normally distributed data \n"
     ]
    },
    {
     "data": {
      "text/html": [
       "<div>\n",
       "<style scoped>\n",
       "    .dataframe tbody tr th:only-of-type {\n",
       "        vertical-align: middle;\n",
       "    }\n",
       "\n",
       "    .dataframe tbody tr th {\n",
       "        vertical-align: top;\n",
       "    }\n",
       "\n",
       "    .dataframe thead th {\n",
       "        text-align: right;\n",
       "    }\n",
       "</style>\n",
       "<table border=\"1\" class=\"dataframe\">\n",
       "  <thead>\n",
       "    <tr style=\"text-align: right;\">\n",
       "      <th></th>\n",
       "      <th>trial</th>\n",
       "      <th>delta</th>\n",
       "      <th>sigma</th>\n",
       "      <th>alpha</th>\n",
       "      <th>pi_val</th>\n",
       "      <th>power</th>\n",
       "      <th>n</th>\n",
       "    </tr>\n",
       "  </thead>\n",
       "  <tbody>\n",
       "    <tr>\n",
       "      <th>1</th>\n",
       "      <td>super</td>\n",
       "      <td>1.4</td>\n",
       "      <td>1.1</td>\n",
       "      <td>0.05</td>\n",
       "      <td>NaN</td>\n",
       "      <td>81.609973</td>\n",
       "      <td>8</td>\n",
       "    </tr>\n",
       "  </tbody>\n",
       "</table>\n",
       "</div>"
      ],
      "text/plain": [
       "   trial  delta  sigma  alpha  pi_val      power  n\n",
       "1  super    1.4    1.1   0.05     NaN  81.609973  8"
      ]
     },
     "execution_count": 152,
     "metadata": {},
     "output_type": "execute_result"
    }
   ],
   "source": [
    "func_calc(trial = \"super\", \n",
    "          distr = \"normal\", \n",
    "          delta = 1.4, \n",
    "          sigma = 1.1, \n",
    "          alpha = 0.05, \n",
    "          pi_val=math.nan, \n",
    "          n = 8,  \n",
    "          power = math.nan)"
   ]
  },
  {
   "cell_type": "markdown",
   "metadata": {},
   "source": [
    "**Example 4 (a):** Estimate **sample size** for a Superiority to Placebo trial when data is normally distributed for the following parameters: $\\delta$ = 1.4, sigma = 1.1, alpha ($\\alpha$)=0.05 and  power=0.8"
   ]
  },
  {
   "cell_type": "code",
   "execution_count": 153,
   "metadata": {},
   "outputs": [
    {
     "name": "stdout",
     "output_type": "stream",
     "text": [
      "here\n",
      "Estimated sample size (n): Superiority to Placebo trial for normally distributed data \n"
     ]
    },
    {
     "data": {
      "text/html": [
       "<div>\n",
       "<style scoped>\n",
       "    .dataframe tbody tr th:only-of-type {\n",
       "        vertical-align: middle;\n",
       "    }\n",
       "\n",
       "    .dataframe tbody tr th {\n",
       "        vertical-align: top;\n",
       "    }\n",
       "\n",
       "    .dataframe thead th {\n",
       "        text-align: right;\n",
       "    }\n",
       "</style>\n",
       "<table border=\"1\" class=\"dataframe\">\n",
       "  <thead>\n",
       "    <tr style=\"text-align: right;\">\n",
       "      <th></th>\n",
       "      <th>trial</th>\n",
       "      <th>delta</th>\n",
       "      <th>sigma</th>\n",
       "      <th>alpha</th>\n",
       "      <th>pi_val</th>\n",
       "      <th>power</th>\n",
       "      <th>n</th>\n",
       "    </tr>\n",
       "  </thead>\n",
       "  <tbody>\n",
       "    <tr>\n",
       "      <th>1</th>\n",
       "      <td>supertoplacebo</td>\n",
       "      <td>1.4</td>\n",
       "      <td>1.1</td>\n",
       "      <td>0.05</td>\n",
       "      <td>NaN</td>\n",
       "      <td>0.8</td>\n",
       "      <td>7.633566</td>\n",
       "    </tr>\n",
       "  </tbody>\n",
       "</table>\n",
       "</div>"
      ],
      "text/plain": [
       "            trial  delta  sigma  alpha  pi_val  power         n\n",
       "1  supertoplacebo    1.4    1.1   0.05     NaN    0.8  7.633566"
      ]
     },
     "execution_count": 153,
     "metadata": {},
     "output_type": "execute_result"
    }
   ],
   "source": [
    "func_calc(trial = \"supertoplacebo\", \n",
    "          distr = \"normal\", \n",
    "          delta = 1.4, \n",
    "          sigma = 1.1, \n",
    "          alpha = 0.05, \n",
    "          pi_val=math.nan, \n",
    "          n = math.nan,  \n",
    "          power = 0.8)"
   ]
  },
  {
   "cell_type": "markdown",
   "metadata": {},
   "source": [
    "**Example 4 (b):** Estimate **power** for a Superiority trial when data is normally distributed for the following parameters: $\\delta$ = 1.4, sigma = 1.1, alpha ($\\alpha$)=0.05 and n=8"
   ]
  },
  {
   "cell_type": "code",
   "execution_count": 154,
   "metadata": {},
   "outputs": [
    {
     "name": "stdout",
     "output_type": "stream",
     "text": [
      "here\n",
      "Estimated power: Superiority to Placebo trial for normally distributed data \n"
     ]
    },
    {
     "data": {
      "text/html": [
       "<div>\n",
       "<style scoped>\n",
       "    .dataframe tbody tr th:only-of-type {\n",
       "        vertical-align: middle;\n",
       "    }\n",
       "\n",
       "    .dataframe tbody tr th {\n",
       "        vertical-align: top;\n",
       "    }\n",
       "\n",
       "    .dataframe thead th {\n",
       "        text-align: right;\n",
       "    }\n",
       "</style>\n",
       "<table border=\"1\" class=\"dataframe\">\n",
       "  <thead>\n",
       "    <tr style=\"text-align: right;\">\n",
       "      <th></th>\n",
       "      <th>trial</th>\n",
       "      <th>delta</th>\n",
       "      <th>sigma</th>\n",
       "      <th>alpha</th>\n",
       "      <th>pi_val</th>\n",
       "      <th>power</th>\n",
       "      <th>n</th>\n",
       "    </tr>\n",
       "  </thead>\n",
       "  <tbody>\n",
       "    <tr>\n",
       "      <th>1</th>\n",
       "      <td>supertoplacebo</td>\n",
       "      <td>1.4</td>\n",
       "      <td>1.1</td>\n",
       "      <td>0.05</td>\n",
       "      <td>NaN</td>\n",
       "      <td>81.609973</td>\n",
       "      <td>8</td>\n",
       "    </tr>\n",
       "  </tbody>\n",
       "</table>\n",
       "</div>"
      ],
      "text/plain": [
       "            trial  delta  sigma  alpha  pi_val      power  n\n",
       "1  supertoplacebo    1.4    1.1   0.05     NaN  81.609973  8"
      ]
     },
     "execution_count": 154,
     "metadata": {},
     "output_type": "execute_result"
    }
   ],
   "source": [
    "func_calc(trial = \"supertoplacebo\", \n",
    "          distr = \"normal\", \n",
    "          delta = 1.4, \n",
    "          sigma = 1.1, \n",
    "          alpha = 0.05, \n",
    "          pi_val=math.nan,  \n",
    "          n = 8,  \n",
    "          power = math.nan)"
   ]
  },
  {
   "cell_type": "markdown",
   "metadata": {},
   "source": [
    "**Example 5 (a):** Estimate **sample size** for a Noninferiority trial when data is binomially distributed for the following parameters: $\\delta$ = 1.4, sigma = 1.1, alpha ($\\alpha$)=0.05 and  power=0.8"
   ]
  },
  {
   "cell_type": "code",
   "execution_count": 155,
   "metadata": {},
   "outputs": [
    {
     "name": "stdout",
     "output_type": "stream",
     "text": [
      "Estimated sample size (n): Non-Inferiority trial for binomially distributed data \n"
     ]
    },
    {
     "data": {
      "text/html": [
       "<div>\n",
       "<style scoped>\n",
       "    .dataframe tbody tr th:only-of-type {\n",
       "        vertical-align: middle;\n",
       "    }\n",
       "\n",
       "    .dataframe tbody tr th {\n",
       "        vertical-align: top;\n",
       "    }\n",
       "\n",
       "    .dataframe thead th {\n",
       "        text-align: right;\n",
       "    }\n",
       "</style>\n",
       "<table border=\"1\" class=\"dataframe\">\n",
       "  <thead>\n",
       "    <tr style=\"text-align: right;\">\n",
       "      <th></th>\n",
       "      <th>trial</th>\n",
       "      <th>delta</th>\n",
       "      <th>sigma</th>\n",
       "      <th>alpha</th>\n",
       "      <th>pi_val</th>\n",
       "      <th>power</th>\n",
       "      <th>n</th>\n",
       "    </tr>\n",
       "  </thead>\n",
       "  <tbody>\n",
       "    <tr>\n",
       "      <th>1</th>\n",
       "      <td>noninfer</td>\n",
       "      <td>0.5</td>\n",
       "      <td>NaN</td>\n",
       "      <td>0.05</td>\n",
       "      <td>0.2</td>\n",
       "      <td>0.8</td>\n",
       "      <td>7.913673</td>\n",
       "    </tr>\n",
       "  </tbody>\n",
       "</table>\n",
       "</div>"
      ],
      "text/plain": [
       "      trial  delta  sigma  alpha  pi_val  power         n\n",
       "1  noninfer    0.5    NaN   0.05     0.2    0.8  7.913673"
      ]
     },
     "execution_count": 155,
     "metadata": {},
     "output_type": "execute_result"
    }
   ],
   "source": [
    "func_calc(trial = \"noninfer\", \n",
    "          distr = \"binomial\", \n",
    "          delta = .5, \n",
    "          pi_val= 0.2, \n",
    "          alpha = 0.05,\n",
    "          sigma=math.nan,   \n",
    "          n = math.nan,  \n",
    "          power = 0.8)"
   ]
  },
  {
   "cell_type": "markdown",
   "metadata": {},
   "source": [
    "**Example 5 (b):** Estimate **power** for a Superiority trial when data is normally distributed for the following parameters: $\\delta$ = 1.4, sigma = 1.1, alpha ($\\alpha$)=0.05 and n=8"
   ]
  },
  {
   "cell_type": "code",
   "execution_count": 156,
   "metadata": {},
   "outputs": [
    {
     "name": "stdout",
     "output_type": "stream",
     "text": [
      "Estimated power: Non-Inferiority trial for binomially distributed data \n"
     ]
    },
    {
     "data": {
      "text/html": [
       "<div>\n",
       "<style scoped>\n",
       "    .dataframe tbody tr th:only-of-type {\n",
       "        vertical-align: middle;\n",
       "    }\n",
       "\n",
       "    .dataframe tbody tr th {\n",
       "        vertical-align: top;\n",
       "    }\n",
       "\n",
       "    .dataframe thead th {\n",
       "        text-align: right;\n",
       "    }\n",
       "</style>\n",
       "<table border=\"1\" class=\"dataframe\">\n",
       "  <thead>\n",
       "    <tr style=\"text-align: right;\">\n",
       "      <th></th>\n",
       "      <th>trial</th>\n",
       "      <th>delta</th>\n",
       "      <th>sigma</th>\n",
       "      <th>alpha</th>\n",
       "      <th>pi_val</th>\n",
       "      <th>power</th>\n",
       "      <th>n</th>\n",
       "    </tr>\n",
       "  </thead>\n",
       "  <tbody>\n",
       "    <tr>\n",
       "      <th>1</th>\n",
       "      <td>noninfer</td>\n",
       "      <td>0.5</td>\n",
       "      <td>1.1</td>\n",
       "      <td>0.05</td>\n",
       "      <td>0.2</td>\n",
       "      <td>80.376494</td>\n",
       "      <td>8</td>\n",
       "    </tr>\n",
       "  </tbody>\n",
       "</table>\n",
       "</div>"
      ],
      "text/plain": [
       "      trial  delta  sigma  alpha  pi_val      power  n\n",
       "1  noninfer    0.5    1.1   0.05     0.2  80.376494  8"
      ]
     },
     "execution_count": 156,
     "metadata": {},
     "output_type": "execute_result"
    }
   ],
   "source": [
    "func_calc(trial = \"noninfer\", \n",
    "          distr = \"binomial\", \n",
    "          delta = 0.5, \n",
    "          sigma = 1.1, \n",
    "          alpha = 0.05, \n",
    "          pi_val=0.2,  \n",
    "          n = 8,  \n",
    "          power = math.nan)"
   ]
  },
  {
   "cell_type": "markdown",
   "metadata": {},
   "source": [
    "**Example 6 (a):** Estimate **sample size** for a Equivalent trial when data is binomially distributed for the following parameters: $\\delta$ = 1.4, sigma = 1.1, alpha ($\\alpha$)=0.05 and  power=0.8"
   ]
  },
  {
   "cell_type": "code",
   "execution_count": 157,
   "metadata": {},
   "outputs": [
    {
     "name": "stdout",
     "output_type": "stream",
     "text": [
      "Estimated sample size (n): Non-Inferiority trial for binomially distributed data \n"
     ]
    },
    {
     "data": {
      "text/html": [
       "<div>\n",
       "<style scoped>\n",
       "    .dataframe tbody tr th:only-of-type {\n",
       "        vertical-align: middle;\n",
       "    }\n",
       "\n",
       "    .dataframe tbody tr th {\n",
       "        vertical-align: top;\n",
       "    }\n",
       "\n",
       "    .dataframe thead th {\n",
       "        text-align: right;\n",
       "    }\n",
       "</style>\n",
       "<table border=\"1\" class=\"dataframe\">\n",
       "  <thead>\n",
       "    <tr style=\"text-align: right;\">\n",
       "      <th></th>\n",
       "      <th>trial</th>\n",
       "      <th>delta</th>\n",
       "      <th>sigma</th>\n",
       "      <th>alpha</th>\n",
       "      <th>pi_val</th>\n",
       "      <th>power</th>\n",
       "      <th>n</th>\n",
       "    </tr>\n",
       "  </thead>\n",
       "  <tbody>\n",
       "    <tr>\n",
       "      <th>1</th>\n",
       "      <td>noninfer</td>\n",
       "      <td>0.5</td>\n",
       "      <td>NaN</td>\n",
       "      <td>0.05</td>\n",
       "      <td>0.2</td>\n",
       "      <td>0.8</td>\n",
       "      <td>7.913673</td>\n",
       "    </tr>\n",
       "  </tbody>\n",
       "</table>\n",
       "</div>"
      ],
      "text/plain": [
       "      trial  delta  sigma  alpha  pi_val  power         n\n",
       "1  noninfer    0.5    NaN   0.05     0.2    0.8  7.913673"
      ]
     },
     "execution_count": 157,
     "metadata": {},
     "output_type": "execute_result"
    }
   ],
   "source": [
    "func_calc(trial = \"noninfer\", \n",
    "          distr = \"binomial\", \n",
    "          delta = .5, \n",
    "          pi_val= 0.2, \n",
    "          alpha = 0.05,\n",
    "          sigma=math.nan, \n",
    "          n = math.nan,  \n",
    "          power = 0.8)"
   ]
  },
  {
   "cell_type": "markdown",
   "metadata": {},
   "source": [
    "**Example 6 (b):** Estimate **power** for a Equivalent trial when data is normally distributed for the following parameters: $\\delta$ = 1.4, sigma = 1.1, alpha ($\\alpha$)=0.05 and n=8"
   ]
  },
  {
   "cell_type": "code",
   "execution_count": 158,
   "metadata": {},
   "outputs": [
    {
     "name": "stdout",
     "output_type": "stream",
     "text": [
      "Estimated power: Non-Inferiority trial for binomially distributed data \n"
     ]
    },
    {
     "data": {
      "text/html": [
       "<div>\n",
       "<style scoped>\n",
       "    .dataframe tbody tr th:only-of-type {\n",
       "        vertical-align: middle;\n",
       "    }\n",
       "\n",
       "    .dataframe tbody tr th {\n",
       "        vertical-align: top;\n",
       "    }\n",
       "\n",
       "    .dataframe thead th {\n",
       "        text-align: right;\n",
       "    }\n",
       "</style>\n",
       "<table border=\"1\" class=\"dataframe\">\n",
       "  <thead>\n",
       "    <tr style=\"text-align: right;\">\n",
       "      <th></th>\n",
       "      <th>trial</th>\n",
       "      <th>delta</th>\n",
       "      <th>sigma</th>\n",
       "      <th>alpha</th>\n",
       "      <th>pi_val</th>\n",
       "      <th>power</th>\n",
       "      <th>n</th>\n",
       "    </tr>\n",
       "  </thead>\n",
       "  <tbody>\n",
       "    <tr>\n",
       "      <th>1</th>\n",
       "      <td>noninfer</td>\n",
       "      <td>0.5</td>\n",
       "      <td>NaN</td>\n",
       "      <td>0.05</td>\n",
       "      <td>0.2</td>\n",
       "      <td>80.376494</td>\n",
       "      <td>8</td>\n",
       "    </tr>\n",
       "  </tbody>\n",
       "</table>\n",
       "</div>"
      ],
      "text/plain": [
       "      trial  delta  sigma  alpha  pi_val      power  n\n",
       "1  noninfer    0.5    NaN   0.05     0.2  80.376494  8"
      ]
     },
     "execution_count": 158,
     "metadata": {},
     "output_type": "execute_result"
    }
   ],
   "source": [
    "func_calc(trial = \"noninfer\", \n",
    "          distr = \"binomial\", \n",
    "          delta = 0.5, \n",
    "          sigma = math.nan, \n",
    "          alpha = 0.05, \n",
    "          pi_val=0.2,  \n",
    "          n = 8,  \n",
    "          power = math.nan)"
   ]
  },
  {
   "cell_type": "markdown",
   "metadata": {},
   "source": [
    "---------\n",
    "# Relationship between sample size and delta ($\\delta$)\n",
    "---------"
   ]
  },
  {
   "cell_type": "code",
   "execution_count": 223,
   "metadata": {},
   "outputs": [
    {
     "name": "stdout",
     "output_type": "stream",
     "text": [
      "Estimated sample size (n): Non-Inferiority trial for normally distributed data \n",
      "Estimated sample size (n): Non-Inferiority trial for normally distributed data \n",
      "Estimated sample size (n): Non-Inferiority trial for normally distributed data \n",
      "Estimated sample size (n): Non-Inferiority trial for normally distributed data \n",
      "Estimated sample size (n): Non-Inferiority trial for normally distributed data \n",
      "Estimated sample size (n): Non-Inferiority trial for normally distributed data \n",
      "Estimated sample size (n): Non-Inferiority trial for normally distributed data \n",
      "Estimated sample size (n): Non-Inferiority trial for normally distributed data \n",
      "Estimated sample size (n): Non-Inferiority trial for normally distributed data \n",
      "Estimated sample size (n): Non-Inferiority trial for normally distributed data \n",
      "Estimated sample size (n): Non-Inferiority trial for normally distributed data \n",
      "Estimated sample size (n): Non-Inferiority trial for normally distributed data \n",
      "Estimated sample size (n): Non-Inferiority trial for normally distributed data \n",
      "Estimated sample size (n): Non-Inferiority trial for normally distributed data \n",
      "Estimated sample size (n): Non-Inferiority trial for normally distributed data \n",
      "Estimated sample size (n): Non-Inferiority trial for normally distributed data \n"
     ]
    }
   ],
   "source": [
    "import numpy as np\n",
    "import matplotlib.pyplot as plt\n",
    "\n",
    "dsn_delta_n = pd.DataFrame()\n",
    "\n",
    "for ind in np.linspace(0.5, 1.6, 8):\n",
    "    res = func_calc(trial = \"noninfer\", distr = \"normal\", delta = ind, sigma = 1.1, alpha = 0.05, pi_val=math.nan, n = math.nan, power = 0.8)\n",
    "    dsn_delta_n = pd.concat([dsn_delta_n, res])\n",
    "\n",
    "dsn_sigma_n = pd.DataFrame()\n",
    "\n",
    "for ind in np.linspace(0.2, 1.6, 8):\n",
    "    res = func_calc(trial = \"noninfer\", distr = \"normal\", delta = 0.5, sigma = ind, alpha = 0.05, pi_val=math.nan, n = math.nan, power = 0.8)\n",
    "    dsn_sigma_n = pd.concat([dsn_sigma_n, res])"
   ]
  },
  {
   "cell_type": "code",
   "execution_count": 225,
   "metadata": {},
   "outputs": [],
   "source": [
    "def func_parameter_relationshiops (idsn, xvar, yvar):\n",
    "      \n",
    "    # Generate x values\n",
    "    x_values = idsn[xvar]\n",
    "    y_values = idsn[yvar]   \n",
    "\n",
    "    # Create a figure and axes\n",
    "    fig, ax = plt.subplots()\n",
    "\n",
    "    # Plotting the line\n",
    "    ax.plot(x_values, y_values)\n",
    "\n",
    "    # Customizing the plot\n",
    "    plt.title(xvar + \" vs \" + yvar)\n",
    "    plt.xlabel(xvar)\n",
    "    plt.ylabel(yvar)\n",
    "    plt.legend()\n",
    "\n",
    "    # Add a horizontal line at y = 2.5\n",
    "    ax.axhline(y=10, color='r', linestyle='--')\n",
    "    ax.axhline(y=25, color='r', linestyle='--')\n",
    "\n",
    "    # Add a vertical line at x = 2\n",
    "    ax.axvline(x=1.2, color='g', linestyle=':')\n",
    "    ax.axvline(x=0.8, color='g', linestyle=':')\n",
    "\n",
    "\n",
    "    # Show the plot\n",
    "    plt.show()    \n",
    " "
   ]
  },
  {
   "cell_type": "code",
   "execution_count": null,
   "metadata": {},
   "outputs": [
    {
     "name": "stderr",
     "output_type": "stream",
     "text": [
      "No artists with labels found to put in legend.  Note that artists whose label start with an underscore are ignored when legend() is called with no argument.\n"
     ]
    },
    {
     "data": {
      "image/png": "[encoded data removed]",
      "text/plain": [
       "<Figure size 640x480 with 1 Axes>"
      ]
     },
     "metadata": {},
     "output_type": "display_data"
    }
   ],
   "source": [
    "# plot of delta vs n\n",
    "func_parameter_relationshiops (idsn=dsn_delta_n, xvar='delta ($$)', yvar='n')"
   ]
  },
  {
   "cell_type": "markdown",
   "metadata": {},
   "source": [
    "**Observation:** As the difference between the treatment and control groups ($\\delta$) increases, the sample size increases"
   ]
  },
  {
   "cell_type": "markdown",
   "metadata": {},
   "source": [
    "---------\n",
    "# Relationship between sample size and sigma ($\\sigma$)\n",
    "---------"
   ]
  },
  {
   "cell_type": "code",
   "execution_count": 228,
   "metadata": {},
   "outputs": [
    {
     "name": "stderr",
     "output_type": "stream",
     "text": [
      "No artists with labels found to put in legend.  Note that artists whose label start with an underscore are ignored when legend() is called with no argument.\n"
     ]
    },
    {
     "data": {
      "image/png": "[encoded data removed]",
      "text/plain": [
       "<Figure size 640x480 with 1 Axes>"
      ]
     },
     "metadata": {},
     "output_type": "display_data"
    }
   ],
   "source": [
    "# plot of sigma vs n\n",
    "func_parameter_relationshiops (idsn=dsn_sigma_n, xvar='sigma', yvar='n')"
   ]
  },
  {
   "cell_type": "markdown",
   "metadata": {},
   "source": [
    "**Observation:** As the variance or standard deviation ($\\sigma$) increases, the sample size increases."
   ]
  }
 ],
 "metadata": {
  "kernelspec": {
   "display_name": "Python 3",
   "language": "python",
   "name": "python3"
  },
  "language_info": {
   "codemirror_mode": {
    "name": "ipython",
    "version": 3
   },
   "file_extension": ".py",
   "mimetype": "text/x-python",
   "name": "python",
   "nbconvert_exporter": "python",
   "pygments_lexer": "ipython3",
   "version": "3.12.2"
  }
 },
 "nbformat": 4,
 "nbformat_minor": 2
}
